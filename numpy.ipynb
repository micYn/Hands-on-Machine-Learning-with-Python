{
 "cells": [
  {
   "cell_type": "code",
   "execution_count": 1,
   "metadata": {},
   "outputs": [],
   "source": [
    "import numpy as np\n",
    "lst1 = [1, 2, 3]\n",
    "arr1 = np.array(lst1)\n",
    "# arr1 - np.array([1,2,3], dtype = np.uint8)"
   ]
  },
  {
   "cell_type": "code",
   "execution_count": 2,
   "metadata": {},
   "outputs": [
    {
     "name": "stdout",
     "output_type": "stream",
     "text": [
      "<class 'list'>\n",
      "<class 'numpy.ndarray'>\n"
     ]
    }
   ],
   "source": [
    "print(type(lst1))\n",
    "print(type(arr1))"
   ]
  },
  {
   "cell_type": "code",
   "execution_count": 3,
   "metadata": {},
   "outputs": [
    {
     "data": {
      "text/plain": [
       "array([[1, 2, 3],\n",
       "       [4, 5, 6]], dtype=int16)"
      ]
     },
     "execution_count": 3,
     "metadata": {},
     "output_type": "execute_result"
    }
   ],
   "source": [
    "arr1 = np.array([[1,2,3],[4,5,6]],np.int16)\n",
    "arr1"
   ]
  },
  {
   "cell_type": "code",
   "execution_count": 4,
   "metadata": {},
   "outputs": [
    {
     "data": {
      "text/plain": [
       "array([[[ 1,  2,  3],\n",
       "        [ 4,  5,  6]],\n",
       "\n",
       "       [[ 7,  8,  9],\n",
       "        [ 0,  0,  0]],\n",
       "\n",
       "       [[-1, -1, -1],\n",
       "        [ 1,  1,  1]]], dtype=int16)"
      ]
     },
     "execution_count": 4,
     "metadata": {},
     "output_type": "execute_result"
    }
   ],
   "source": [
    "arr1 = np.array([[[1, 2, 3], [4, 5, 6]],\n",
    "                 [[7, 8, 9], [0, 0, 0]],\n",
    "                 [[-1, -1, -1], [1, 1, 1]]], np.int16)\n",
    "arr1"
   ]
  },
  {
   "cell_type": "code",
   "execution_count": 5,
   "metadata": {},
   "outputs": [
    {
     "name": "stdout",
     "output_type": "stream",
     "text": [
      "1\n",
      "3\n"
     ]
    }
   ],
   "source": [
    "arr1 = np.array([1,2,3], dtype=np.uint8)\n",
    "print(arr1[0])\n",
    "print(arr1[-1])"
   ]
  },
  {
   "cell_type": "code",
   "execution_count": 6,
   "metadata": {},
   "outputs": [
    {
     "name": "stdout",
     "output_type": "stream",
     "text": [
      "5\n",
      "[1 2 3]\n",
      "[3 6]\n"
     ]
    }
   ],
   "source": [
    "arr1 = np.array([[1, 2, 3], [4, 5, 6]], np.int16)\n",
    "print(arr1[1,1])\n",
    "print(arr1[0,:])\n",
    "print(arr1[:,2])"
   ]
  },
  {
   "cell_type": "code",
   "execution_count": 7,
   "metadata": {},
   "outputs": [
    {
     "name": "stdout",
     "output_type": "stream",
     "text": [
      "1\n",
      "7\n",
      "[5 0 1]\n"
     ]
    }
   ],
   "source": [
    "arr1 = np.array([[[1, 2, 3], [4, 5, 6]],\n",
    "                 [[7, 8, 9], [0, 0, 7]],\n",
    "                 [[-1, -1, -1], [1, 1, 1]]], np.int16)\n",
    "print(arr1 [0, 0, 0])\n",
    "print(arr1 [1, 1, 2])\n",
    "print(arr1 [:, 1, 1])"
   ]
  },
  {
   "cell_type": "code",
   "execution_count": 8,
   "metadata": {},
   "outputs": [
    {
     "name": "stdout",
     "output_type": "stream",
     "text": [
      "3\n",
      "(2, 2, 3)\n",
      "int16\n",
      "12\n",
      "24\n",
      "[[[ 1  0]\n",
      "  [ 4  1]]\n",
      "\n",
      " [[ 2 -1]\n",
      "  [ 5 -4]]\n",
      "\n",
      " [[ 3 -2]\n",
      "  [ 6 -5]]]\n",
      "(3, 2, 2)\n"
     ]
    }
   ],
   "source": [
    "x2 = np.array([[[1, 2, 3], [4, 5, 6]],[[0, -1, -2], [1, -4, -5]]], np.int16)\n",
    "print(x2.ndim)\n",
    "print(x2.shape)\n",
    "\n",
    "print(x2.dtype)\n",
    "print(x2.size)\n",
    "print(x2.nbytes)\n",
    "print(x2.T)\n",
    "\n",
    "print(x2.T.shape) # print(x2.shape[::-1])\n",
    "# for a 3d matrix, it has 6 kind of transpose matrices(you can permute the axes freely and get 3*2 kind of matrix) \n",
    "# x2.T will give the one that reverses every axes ([x,y,z] -> [z,y,x])"
   ]
  },
  {
   "cell_type": "code",
   "execution_count": 9,
   "metadata": {},
   "outputs": [
    {
     "name": "stdout",
     "output_type": "stream",
     "text": [
      "inf\n",
      "nan\n",
      "-inf\n",
      "-0.0\n",
      "0.0\n",
      "2.718281828459045\n",
      "0.5772156649015329\n",
      "3.141592653589793\n"
     ]
    }
   ],
   "source": [
    "print(np.inf)\n",
    "print(np.NAN)\n",
    "print(np.NINF)\n",
    "print(np.NZERO)\n",
    "print(np.PZERO)\n",
    "print(np.e)\n",
    "print(np.euler_gamma)\n",
    "print(np.pi)\n"
   ]
  },
  {
   "cell_type": "code",
   "execution_count": 20,
   "metadata": {},
   "outputs": [
    {
     "name": "stdout",
     "output_type": "stream",
     "text": [
      "[[  0   0   0]\n",
      " [  0   0   0]\n",
      " [  0   0  32]\n",
      " [128  99 137]\n",
      " [ 43   2   0]]\n",
      "[[1 0 0 0]\n",
      " [0 1 0 0]\n",
      " [0 0 1 0]\n",
      " [0 0 0 1]]\n",
      "[[0 1 0 0]\n",
      " [0 0 1 0]\n",
      " [0 0 0 1]\n",
      " [0 0 0 0]]\n",
      "[[0 0 0 0 0]\n",
      " [1 0 0 0 0]\n",
      " [0 1 0 0 0]\n",
      " [0 0 1 0 0]]\n"
     ]
    }
   ],
   "source": [
    "x = np.empty([5,3],dtype= np.uint8)\n",
    "print(x)    # random numbers\n",
    "\n",
    "\n",
    "\n",
    "x = np.eye(4, dtype=np.uint8)\n",
    "print(x)    # a matrix of all zeros except the diagonal elements of all the zeros. \n",
    "            # The diagonal has all the ones.\n",
    "x = np.eye(4, dtype = np.uint8, k=1)    # set the position of the diagonal\n",
    "print(x)\n",
    "x = np.eye(4, dtype=np.uint8, k=-1)\n",
    "print(x)"
   ]
  },
  {
   "cell_type": "code",
   "execution_count": 19,
   "metadata": {},
   "outputs": [
    {
     "name": "stdout",
     "output_type": "stream",
     "text": [
      "[[1 0 0 0]\n",
      " [0 1 0 0]\n",
      " [0 0 1 0]\n",
      " [0 0 0 1]]\n"
     ]
    }
   ],
   "source": [
    "y = np.identity(4, dtype=np.uint8)\n",
    "print(y)"
   ]
  },
  {
   "cell_type": "code",
   "execution_count": 22,
   "metadata": {},
   "outputs": [
    {
     "name": "stdout",
     "output_type": "stream",
     "text": [
      "[[[1 1 1]\n",
      "  [1 1 1]\n",
      "  [1 1 1]]\n",
      "\n",
      " [[1 1 1]\n",
      "  [1 1 1]\n",
      "  [1 1 1]]]\n"
     ]
    }
   ],
   "source": [
    "x= np.ones((2,3,3),dtype=np.int16)\n",
    "print(x)"
   ]
  },
  {
   "cell_type": "code",
   "execution_count": 33,
   "metadata": {},
   "outputs": [
    {
     "name": "stdout",
     "output_type": "stream",
     "text": [
      "[1 4 7] [0 1 2 3 4 5 6 7 8 9]\n"
     ]
    }
   ],
   "source": [
    "x1 = np.arange(1,10,3)  # [1,10) step size = 3\n",
    "x2 = np.arange(10)  # [0,10) step size = 1\n",
    "print(x1,x2)"
   ]
  },
  {
   "cell_type": "code",
   "execution_count": 37,
   "metadata": {},
   "outputs": [
    {
     "data": {
      "text/plain": [
       "array([ 0.        ,  0.68965517,  1.37931034,  2.06896552,  2.75862069,\n",
       "        3.44827586,  4.13793103,  4.82758621,  5.51724138,  6.20689655,\n",
       "        6.89655172,  7.5862069 ,  8.27586207,  8.96551724,  9.65517241,\n",
       "       10.34482759, 11.03448276, 11.72413793, 12.4137931 , 13.10344828,\n",
       "       13.79310345, 14.48275862, 15.17241379, 15.86206897, 16.55172414,\n",
       "       17.24137931, 17.93103448, 18.62068966, 19.31034483, 20.        ])"
      ]
     },
     "execution_count": 37,
     "metadata": {},
     "output_type": "execute_result"
    }
   ],
   "source": [
    "np.linspace(0,20,num = 30)    # 30 evenly spaced values between [0,20]"
   ]
  },
  {
   "cell_type": "code",
   "execution_count": 36,
   "metadata": {},
   "outputs": [
    {
     "data": {
      "text/plain": [
       "array([  1.25892541,   2.04696827,   3.32829814,   5.41169527,\n",
       "         8.79922544,  14.30722989,  23.26305067,  37.82489906,\n",
       "        61.50195043, 100.        ])"
      ]
     },
     "execution_count": 36,
     "metadata": {},
     "output_type": "execute_result"
    }
   ],
   "source": [
    "np.logspace(0.1,2,num=10, base=10)   \n",
    "# 10 evenly spaced values [base**0.1, base**2] within a logarithmic space"
   ]
  },
  {
   "cell_type": "code",
   "execution_count": 40,
   "metadata": {},
   "outputs": [
    {
     "data": {
      "text/plain": [
       "array([ 0.1       ,  0.18016482,  0.32459363,  0.58480355,  1.05361028,\n",
       "        1.89823509,  3.41995189,  6.16155028, 11.10094616, 20.        ])"
      ]
     },
     "execution_count": 40,
     "metadata": {},
     "output_type": "execute_result"
    }
   ],
   "source": [
    "np.geomspace(0.1,20,num=10)\n",
    "# 10 evenly spaced values [0.1, 2] within a logarithmic space so no base needed"
   ]
  }
 ],
 "metadata": {
  "kernelspec": {
   "display_name": "base",
   "language": "python",
   "name": "python3"
  },
  "language_info": {
   "codemirror_mode": {
    "name": "ipython",
    "version": 3
   },
   "file_extension": ".py",
   "mimetype": "text/x-python",
   "name": "python",
   "nbconvert_exporter": "python",
   "pygments_lexer": "ipython3",
   "version": "3.11.5"
  }
 },
 "nbformat": 4,
 "nbformat_minor": 2
}
